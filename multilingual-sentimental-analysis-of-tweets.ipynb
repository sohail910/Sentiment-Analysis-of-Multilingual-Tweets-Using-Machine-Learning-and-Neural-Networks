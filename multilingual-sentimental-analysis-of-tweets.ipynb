{
 "cells": [
  {
   "cell_type": "code",
   "execution_count": 1,
   "metadata": {
    "_cell_guid": "b1076dfc-b9ad-4769-8c92-a6c4dae69d19",
    "_uuid": "8f2839f25d086af736a60e9eeb907d3b93b6e0e5",
    "id": "v7LNZmns14cp"
   },
   "outputs": [],
   "source": [
    "import numpy as np \n",
    "import pandas as pd \n",
    "import re\n",
    "import string\n",
    "import nltk\n",
    "from nltk.corpus import stopwords\n",
    "from nltk.tokenize import word_tokenize\n",
    "from nltk.stem import WordNetLemmatizer\n",
    "\n",
    "\n",
    "import matplotlib.pyplot as plt\n",
    "import seaborn as sns\n",
    "from wordcloud import WordCloud\n",
    "\n",
    "from sklearn.feature_extraction.text import TfidfVectorizer\n",
    "from sklearn.model_selection import train_test_split\n",
    "from sklearn.pipeline import Pipeline\n",
    "from sklearn.svm import LinearSVC\n",
    "from sklearn.metrics import classification_report\n",
    "\n",
    "import warnings\n",
    "warnings.filterwarnings('ignore')\n"
   ]
  },
  {
   "cell_type": "code",
   "execution_count": 2,
   "metadata": {
    "id": "u45HVSCG14cw"
   },
   "outputs": [],
   "source": [
    "dataset=pd.read_csv('data.csv')"
   ]
  },
  {
   "cell_type": "code",
   "execution_count": 3,
   "metadata": {
    "colab": {
     "base_uri": "https://localhost:8080/",
     "height": 423
    },
    "id": "cZRWpP9u14cx",
    "outputId": "e25b1f45-f14c-420b-e741-8b90cd4e63ae"
   },
   "outputs": [
    {
     "data": {
      "text/html": [
       "<div>\n",
       "<style scoped>\n",
       "    .dataframe tbody tr th:only-of-type {\n",
       "        vertical-align: middle;\n",
       "    }\n",
       "\n",
       "    .dataframe tbody tr th {\n",
       "        vertical-align: top;\n",
       "    }\n",
       "\n",
       "    .dataframe thead th {\n",
       "        text-align: right;\n",
       "    }\n",
       "</style>\n",
       "<table border=\"1\" class=\"dataframe\">\n",
       "  <thead>\n",
       "    <tr style=\"text-align: right;\">\n",
       "      <th></th>\n",
       "      <th>tweet</th>\n",
       "      <th>language</th>\n",
       "      <th>sentiment</th>\n",
       "    </tr>\n",
       "  </thead>\n",
       "  <tbody>\n",
       "    <tr>\n",
       "      <th>0</th>\n",
       "      <td>Lionel Messi, que ha estado vinculado con un t...</td>\n",
       "      <td>es</td>\n",
       "      <td>3 stars</td>\n",
       "    </tr>\n",
       "    <tr>\n",
       "      <th>1</th>\n",
       "      <td>This is a guest post by The Joy of Truth. To r...</td>\n",
       "      <td>en</td>\n",
       "      <td>4 stars</td>\n",
       "    </tr>\n",
       "    <tr>\n",
       "      <th>2</th>\n",
       "      <td>Nous sommes tous conscients de la popularité d...</td>\n",
       "      <td>fr</td>\n",
       "      <td>5 stars</td>\n",
       "    </tr>\n",
       "    <tr>\n",
       "      <th>3</th>\n",
       "      <td>El baño en el sistema de metro de la ciudad de...</td>\n",
       "      <td>es</td>\n",
       "      <td>4 stars</td>\n",
       "    </tr>\n",
       "    <tr>\n",
       "      <th>4</th>\n",
       "      <td>\"Ich habe dies seit über 20 Jahren getan und i...</td>\n",
       "      <td>de</td>\n",
       "      <td>5 stars</td>\n",
       "    </tr>\n",
       "  </tbody>\n",
       "</table>\n",
       "</div>"
      ],
      "text/plain": [
       "                                               tweet language sentiment\n",
       "0  Lionel Messi, que ha estado vinculado con un t...       es   3 stars\n",
       "1  This is a guest post by The Joy of Truth. To r...       en   4 stars\n",
       "2  Nous sommes tous conscients de la popularité d...       fr   5 stars\n",
       "3  El baño en el sistema de metro de la ciudad de...       es   4 stars\n",
       "4  \"Ich habe dies seit über 20 Jahren getan und i...       de   5 stars"
      ]
     },
     "execution_count": 3,
     "metadata": {},
     "output_type": "execute_result"
    }
   ],
   "source": [
    "dataset.head()"
   ]
  },
  {
   "cell_type": "code",
   "execution_count": 4,
   "metadata": {
    "colab": {
     "base_uri": "https://localhost:8080/",
     "height": 175
    },
    "id": "ssFrSHtT14cz",
    "outputId": "32821a28-ed63-44f9-ec3f-0e25bfb4ce8e"
   },
   "outputs": [
    {
     "data": {
      "text/html": [
       "<div>\n",
       "<style scoped>\n",
       "    .dataframe tbody tr th:only-of-type {\n",
       "        vertical-align: middle;\n",
       "    }\n",
       "\n",
       "    .dataframe tbody tr th {\n",
       "        vertical-align: top;\n",
       "    }\n",
       "\n",
       "    .dataframe thead th {\n",
       "        text-align: right;\n",
       "    }\n",
       "</style>\n",
       "<table border=\"1\" class=\"dataframe\">\n",
       "  <thead>\n",
       "    <tr style=\"text-align: right;\">\n",
       "      <th></th>\n",
       "      <th>tweet</th>\n",
       "      <th>language</th>\n",
       "      <th>sentiment</th>\n",
       "    </tr>\n",
       "  </thead>\n",
       "  <tbody>\n",
       "    <tr>\n",
       "      <th>count</th>\n",
       "      <td>4917</td>\n",
       "      <td>4917</td>\n",
       "      <td>4917</td>\n",
       "    </tr>\n",
       "    <tr>\n",
       "      <th>unique</th>\n",
       "      <td>4861</td>\n",
       "      <td>5</td>\n",
       "      <td>5</td>\n",
       "    </tr>\n",
       "    <tr>\n",
       "      <th>top</th>\n",
       "      <td>. . . . . . . . . . . . . . . . . . . . . . . .</td>\n",
       "      <td>fr</td>\n",
       "      <td>1 star</td>\n",
       "    </tr>\n",
       "    <tr>\n",
       "      <th>freq</th>\n",
       "      <td>17</td>\n",
       "      <td>991</td>\n",
       "      <td>1461</td>\n",
       "    </tr>\n",
       "  </tbody>\n",
       "</table>\n",
       "</div>"
      ],
      "text/plain": [
       "                                                  tweet language sentiment\n",
       "count                                              4917     4917      4917\n",
       "unique                                             4861        5         5\n",
       "top     . . . . . . . . . . . . . . . . . . . . . . . .       fr    1 star\n",
       "freq                                                 17      991      1461"
      ]
     },
     "execution_count": 4,
     "metadata": {},
     "output_type": "execute_result"
    }
   ],
   "source": [
    "dataset.describe()"
   ]
  },
  {
   "cell_type": "code",
   "execution_count": 5,
   "metadata": {
    "colab": {
     "base_uri": "https://localhost:8080/"
    },
    "id": "2jUjywvQ14c0",
    "outputId": "ae149122-f269-42ea-a0da-ff23ac89404e"
   },
   "outputs": [
    {
     "data": {
      "text/plain": [
       "array(['es', 'en', 'fr', 'de', 'it'], dtype=object)"
      ]
     },
     "execution_count": 5,
     "metadata": {},
     "output_type": "execute_result"
    }
   ],
   "source": [
    "dataset['language'].unique()"
   ]
  },
  {
   "cell_type": "code",
   "execution_count": 6,
   "metadata": {
    "colab": {
     "base_uri": "https://localhost:8080/"
    },
    "id": "UGiOivyl14c1",
    "outputId": "f4ebc23f-b3fb-4e7e-db4e-18b7f0f9361d"
   },
   "outputs": [
    {
     "data": {
      "text/plain": [
       "array(['3 stars', '4 stars', '5 stars', '2 stars', '1 star'], dtype=object)"
      ]
     },
     "execution_count": 6,
     "metadata": {},
     "output_type": "execute_result"
    }
   ],
   "source": [
    "dataset['sentiment'].unique()"
   ]
  },
  {
   "cell_type": "code",
   "execution_count": 8,
   "metadata": {},
   "outputs": [],
   "source": [
    "# Define the mapping function\n",
    "def map_sentiment(stars):\n",
    "    if stars in ['4 stars', '5 stars']:\n",
    "        return 'positive'\n",
    "    elif stars == '3 stars':\n",
    "        return 'neutral'\n",
    "    else:\n",
    "        return 'negative'\n",
    "\n",
    "# Apply the mapping function to the sentiment column\n",
    "dataset['sentiment'] = dataset['sentiment'].apply(map_sentiment)"
   ]
  },
  {
   "cell_type": "code",
   "execution_count": 9,
   "metadata": {},
   "outputs": [
    {
     "data": {
      "image/png": "[encoded data removed]",
      "text/plain": [
       "<Figure size 1200x600 with 1 Axes>"
      ]
     },
     "metadata": {},
     "output_type": "display_data"
    }
   ],
   "source": [
    "# Add a new column for tweet length\n",
    "dataset['tweet_length'] = dataset['tweet'].apply(len)\n",
    "\n",
    "# Plot the distribution of tweet lengths\n",
    "plt.figure(figsize=(12, 6))\n",
    "sns.histplot(dataset['tweet_length'], bins=50, kde=True, color='blue')\n",
    "plt.title('Distribution of Tweet Lengths')\n",
    "plt.xlabel('Tweet Length')\n",
    "plt.ylabel('Frequency')\n",
    "plt.show()"
   ]
  },
  {
   "cell_type": "code",
   "execution_count": 10,
   "metadata": {},
   "outputs": [
    {
     "data": {
      "image/png": "[encoded data removed]",
      "text/plain": [
       "<Figure size 1000x600 with 1 Axes>"
      ]
     },
     "metadata": {},
     "output_type": "display_data"
    }
   ],
   "source": [
    "\n",
    "# Plot the distribution of sentiment ratings\n",
    "plt.figure(figsize=(10, 6))\n",
    "sns.countplot(x='sentiment', data=dataset, palette='viridis')\n",
    "plt.title('Distribution of Sentiment Ratings')\n",
    "plt.xlabel('Sentiment Rating')\n",
    "plt.ylabel('Count')\n",
    "plt.show()\n",
    "\n"
   ]
  },
  {
   "cell_type": "code",
   "execution_count": 11,
   "metadata": {},
   "outputs": [
    {
     "data": {
      "image/png": "[encoded data removed]",
      "text/plain": [
       "<Figure size 1200x600 with 1 Axes>"
      ]
     },
     "metadata": {},
     "output_type": "display_data"
    }
   ],
   "source": [
    "\n",
    "# Count the number of tweets per language\n",
    "language_counts = dataset['language'].value_counts()\n",
    "\n",
    "# Plot the distribution of languages\n",
    "plt.figure(figsize=(12, 6))\n",
    "sns.barplot(x=language_counts.index, y=language_counts.values, palette='viridis')\n",
    "plt.title('Distribution of Tweets by Language')\n",
    "plt.xlabel('Language')\n",
    "plt.ylabel('Number of Tweets')\n",
    "plt.xticks(rotation=45)\n",
    "plt.show()"
   ]
  },
  {
   "cell_type": "code",
   "execution_count": 12,
   "metadata": {},
   "outputs": [
    {
     "data": {
      "image/png": "[encoded data removed]",
      "text/plain": [
       "<Figure size 1400x800 with 1 Axes>"
      ]
     },
     "metadata": {},
     "output_type": "display_data"
    }
   ],
   "source": [
    "# Plot the sentiment distribution for each language\n",
    "plt.figure(figsize=(14, 8))\n",
    "sns.countplot(x='sentiment', hue='language', data=dataset, palette='viridis')\n",
    "plt.title('Sentiment Distribution by Language')\n",
    "plt.xlabel('Sentiment Rating')\n",
    "plt.ylabel('Count')\n",
    "plt.legend(title='Language')\n",
    "plt.show()\n"
   ]
  },
  {
   "cell_type": "code",
   "execution_count": 13,
   "metadata": {},
   "outputs": [],
   "source": [
    "from googletrans import Translator"
   ]
  },
  {
   "cell_type": "code",
   "execution_count": 14,
   "metadata": {},
   "outputs": [],
   "source": [
    "\n",
    "from googletrans import Translator\n",
    "\n",
    "\n",
    "# Initialize the translator\n",
    "translator = Translator()\n",
    "\n",
    "# Function to translate text from any language to English\n",
    "def translate_to_english(text):\n",
    "    try:\n",
    "        # Detect the language\n",
    "        detected_lang = translator.detect(text).lang\n",
    "        # Translate only if the detected language is not English\n",
    "        if detected_lang != 'en':\n",
    "            translated = translator.translate(text, src=detected_lang, dest='en')\n",
    "            return translated.text\n",
    "        return text\n",
    "    except Exception as e:\n",
    "        return text \n",
    "\n",
    "# Apply the translation function to the text column\n",
    "dataset['tweet_english'] = dataset['tweet'].apply(translate_to_english)\n"
   ]
  },
  {
   "cell_type": "code",
   "execution_count": 15,
   "metadata": {},
   "outputs": [
    {
     "data": {
      "text/html": [
       "<div>\n",
       "<style scoped>\n",
       "    .dataframe tbody tr th:only-of-type {\n",
       "        vertical-align: middle;\n",
       "    }\n",
       "\n",
       "    .dataframe tbody tr th {\n",
       "        vertical-align: top;\n",
       "    }\n",
       "\n",
       "    .dataframe thead th {\n",
       "        text-align: right;\n",
       "    }\n",
       "</style>\n",
       "<table border=\"1\" class=\"dataframe\">\n",
       "  <thead>\n",
       "    <tr style=\"text-align: right;\">\n",
       "      <th></th>\n",
       "      <th>tweet</th>\n",
       "      <th>language</th>\n",
       "      <th>sentiment</th>\n",
       "      <th>tweet_length</th>\n",
       "      <th>tweet_english</th>\n",
       "    </tr>\n",
       "  </thead>\n",
       "  <tbody>\n",
       "    <tr>\n",
       "      <th>0</th>\n",
       "      <td>Lionel Messi, que ha estado vinculado con un t...</td>\n",
       "      <td>es</td>\n",
       "      <td>neutral</td>\n",
       "      <td>139</td>\n",
       "      <td>Lionel Messi, who has been linked to a transfe...</td>\n",
       "    </tr>\n",
       "    <tr>\n",
       "      <th>1</th>\n",
       "      <td>This is a guest post by The Joy of Truth. To r...</td>\n",
       "      <td>en</td>\n",
       "      <td>positive</td>\n",
       "      <td>114</td>\n",
       "      <td>This is a guest post by The Joy of Truth. To r...</td>\n",
       "    </tr>\n",
       "    <tr>\n",
       "      <th>2</th>\n",
       "      <td>Nous sommes tous conscients de la popularité d...</td>\n",
       "      <td>fr</td>\n",
       "      <td>positive</td>\n",
       "      <td>117</td>\n",
       "      <td>We are all aware of the popularity of the Inte...</td>\n",
       "    </tr>\n",
       "    <tr>\n",
       "      <th>3</th>\n",
       "      <td>El baño en el sistema de metro de la ciudad de...</td>\n",
       "      <td>es</td>\n",
       "      <td>positive</td>\n",
       "      <td>102</td>\n",
       "      <td>The bathroom in the subway system of New York ...</td>\n",
       "    </tr>\n",
       "    <tr>\n",
       "      <th>4</th>\n",
       "      <td>\"Ich habe dies seit über 20 Jahren getan und i...</td>\n",
       "      <td>de</td>\n",
       "      <td>positive</td>\n",
       "      <td>131</td>\n",
       "      <td>\"I've been doing this for over 20 years and I ...</td>\n",
       "    </tr>\n",
       "  </tbody>\n",
       "</table>\n",
       "</div>"
      ],
      "text/plain": [
       "                                               tweet language sentiment  \\\n",
       "0  Lionel Messi, que ha estado vinculado con un t...       es   neutral   \n",
       "1  This is a guest post by The Joy of Truth. To r...       en  positive   \n",
       "2  Nous sommes tous conscients de la popularité d...       fr  positive   \n",
       "3  El baño en el sistema de metro de la ciudad de...       es  positive   \n",
       "4  \"Ich habe dies seit über 20 Jahren getan und i...       de  positive   \n",
       "\n",
       "   tweet_length                                      tweet_english  \n",
       "0           139  Lionel Messi, who has been linked to a transfe...  \n",
       "1           114  This is a guest post by The Joy of Truth. To r...  \n",
       "2           117  We are all aware of the popularity of the Inte...  \n",
       "3           102  The bathroom in the subway system of New York ...  \n",
       "4           131  \"I've been doing this for over 20 years and I ...  "
      ]
     },
     "execution_count": 15,
     "metadata": {},
     "output_type": "execute_result"
    }
   ],
   "source": [
    "dataset.head()"
   ]
  },
  {
   "cell_type": "markdown",
   "metadata": {},
   "source": [
    "# data cleaning"
   ]
  },
  {
   "cell_type": "code",
   "execution_count": 16,
   "metadata": {
    "id": "WMmyHn4m14c5"
   },
   "outputs": [],
   "source": [
    "def clean_text(text):\n",
    "    '''Make text lowercase, remove text in square brackets,remove links,remove punctuation\n",
    "    and remove words containing numbers.'''\n",
    "    text = str(text).lower()\n",
    "    text = re.sub('\\[.*?\\]', '', text)\n",
    "    text = re.sub('https?://\\S+|www\\.\\S+', '', text)\n",
    "    text = re.sub('<.*?>+', '', text)\n",
    "    text = re.sub('[%s]' % re.escape(string.punctuation), '', text)\n",
    "    text = re.sub('\\n', '', text)\n",
    "    text = re.sub('\\w*\\d\\w*', '', text)\n",
    "    return text"
   ]
  },
  {
   "cell_type": "code",
   "execution_count": 17,
   "metadata": {
    "colab": {
     "base_uri": "https://localhost:8080/",
     "height": 423
    },
    "id": "ss_bDyeq14c5",
    "outputId": "3817f327-6f16-4591-c1ca-5832a5df126b"
   },
   "outputs": [
    {
     "data": {
      "text/html": [
       "<div>\n",
       "<style scoped>\n",
       "    .dataframe tbody tr th:only-of-type {\n",
       "        vertical-align: middle;\n",
       "    }\n",
       "\n",
       "    .dataframe tbody tr th {\n",
       "        vertical-align: top;\n",
       "    }\n",
       "\n",
       "    .dataframe thead th {\n",
       "        text-align: right;\n",
       "    }\n",
       "</style>\n",
       "<table border=\"1\" class=\"dataframe\">\n",
       "  <thead>\n",
       "    <tr style=\"text-align: right;\">\n",
       "      <th></th>\n",
       "      <th>tweet</th>\n",
       "      <th>language</th>\n",
       "      <th>sentiment</th>\n",
       "      <th>tweet_length</th>\n",
       "      <th>tweet_english</th>\n",
       "    </tr>\n",
       "  </thead>\n",
       "  <tbody>\n",
       "    <tr>\n",
       "      <th>0</th>\n",
       "      <td>Lionel Messi, que ha estado vinculado con un t...</td>\n",
       "      <td>es</td>\n",
       "      <td>neutral</td>\n",
       "      <td>139</td>\n",
       "      <td>lionel messi who has been linked to a transfer...</td>\n",
       "    </tr>\n",
       "    <tr>\n",
       "      <th>1</th>\n",
       "      <td>This is a guest post by The Joy of Truth. To r...</td>\n",
       "      <td>en</td>\n",
       "      <td>positive</td>\n",
       "      <td>114</td>\n",
       "      <td>this is a guest post by the joy of truth to re...</td>\n",
       "    </tr>\n",
       "    <tr>\n",
       "      <th>2</th>\n",
       "      <td>Nous sommes tous conscients de la popularité d...</td>\n",
       "      <td>fr</td>\n",
       "      <td>positive</td>\n",
       "      <td>117</td>\n",
       "      <td>we are all aware of the popularity of the inte...</td>\n",
       "    </tr>\n",
       "    <tr>\n",
       "      <th>3</th>\n",
       "      <td>El baño en el sistema de metro de la ciudad de...</td>\n",
       "      <td>es</td>\n",
       "      <td>positive</td>\n",
       "      <td>102</td>\n",
       "      <td>the bathroom in the subway system of new york ...</td>\n",
       "    </tr>\n",
       "    <tr>\n",
       "      <th>4</th>\n",
       "      <td>\"Ich habe dies seit über 20 Jahren getan und i...</td>\n",
       "      <td>de</td>\n",
       "      <td>positive</td>\n",
       "      <td>131</td>\n",
       "      <td>ive been doing this for over  years and i know...</td>\n",
       "    </tr>\n",
       "  </tbody>\n",
       "</table>\n",
       "</div>"
      ],
      "text/plain": [
       "                                               tweet language sentiment  \\\n",
       "0  Lionel Messi, que ha estado vinculado con un t...       es   neutral   \n",
       "1  This is a guest post by The Joy of Truth. To r...       en  positive   \n",
       "2  Nous sommes tous conscients de la popularité d...       fr  positive   \n",
       "3  El baño en el sistema de metro de la ciudad de...       es  positive   \n",
       "4  \"Ich habe dies seit über 20 Jahren getan und i...       de  positive   \n",
       "\n",
       "   tweet_length                                      tweet_english  \n",
       "0           139  lionel messi who has been linked to a transfer...  \n",
       "1           114  this is a guest post by the joy of truth to re...  \n",
       "2           117  we are all aware of the popularity of the inte...  \n",
       "3           102  the bathroom in the subway system of new york ...  \n",
       "4           131  ive been doing this for over  years and i know...  "
      ]
     },
     "execution_count": 17,
     "metadata": {},
     "output_type": "execute_result"
    }
   ],
   "source": [
    "dataset['tweet_english'] = dataset['tweet_english'].apply(lambda x:clean_text(x))\n",
    "dataset.head()"
   ]
  },
  {
   "cell_type": "code",
   "execution_count": 18,
   "metadata": {
    "colab": {
     "base_uri": "https://localhost:8080/",
     "height": 423
    },
    "id": "xHD9Msx814c6",
    "outputId": "0728840b-3ca5-4046-ba88-c6162e9cfd38"
   },
   "outputs": [
    {
     "data": {
      "text/html": [
       "<div>\n",
       "<style scoped>\n",
       "    .dataframe tbody tr th:only-of-type {\n",
       "        vertical-align: middle;\n",
       "    }\n",
       "\n",
       "    .dataframe tbody tr th {\n",
       "        vertical-align: top;\n",
       "    }\n",
       "\n",
       "    .dataframe thead th {\n",
       "        text-align: right;\n",
       "    }\n",
       "</style>\n",
       "<table border=\"1\" class=\"dataframe\">\n",
       "  <thead>\n",
       "    <tr style=\"text-align: right;\">\n",
       "      <th></th>\n",
       "      <th>tweet</th>\n",
       "      <th>language</th>\n",
       "      <th>sentiment</th>\n",
       "      <th>tweet_length</th>\n",
       "      <th>tweet_english</th>\n",
       "    </tr>\n",
       "  </thead>\n",
       "  <tbody>\n",
       "    <tr>\n",
       "      <th>0</th>\n",
       "      <td>Lionel Messi, que ha estado vinculado con un t...</td>\n",
       "      <td>es</td>\n",
       "      <td>neutral</td>\n",
       "      <td>139</td>\n",
       "      <td>lionel messi who has been linked to a transfer...</td>\n",
       "    </tr>\n",
       "    <tr>\n",
       "      <th>1</th>\n",
       "      <td>This is a guest post by The Joy of Truth. To r...</td>\n",
       "      <td>en</td>\n",
       "      <td>positive</td>\n",
       "      <td>114</td>\n",
       "      <td>this is a guest post by the joy of truth to re...</td>\n",
       "    </tr>\n",
       "    <tr>\n",
       "      <th>2</th>\n",
       "      <td>Nous sommes tous conscients de la popularité d...</td>\n",
       "      <td>fr</td>\n",
       "      <td>positive</td>\n",
       "      <td>117</td>\n",
       "      <td>we are all aware of the popularity of the inte...</td>\n",
       "    </tr>\n",
       "    <tr>\n",
       "      <th>3</th>\n",
       "      <td>El baño en el sistema de metro de la ciudad de...</td>\n",
       "      <td>es</td>\n",
       "      <td>positive</td>\n",
       "      <td>102</td>\n",
       "      <td>the bathroom in the subway system of new york ...</td>\n",
       "    </tr>\n",
       "    <tr>\n",
       "      <th>4</th>\n",
       "      <td>\"Ich habe dies seit über 20 Jahren getan und i...</td>\n",
       "      <td>de</td>\n",
       "      <td>positive</td>\n",
       "      <td>131</td>\n",
       "      <td>ive been doing this for over  years and i know...</td>\n",
       "    </tr>\n",
       "  </tbody>\n",
       "</table>\n",
       "</div>"
      ],
      "text/plain": [
       "                                               tweet language sentiment  \\\n",
       "0  Lionel Messi, que ha estado vinculado con un t...       es   neutral   \n",
       "1  This is a guest post by The Joy of Truth. To r...       en  positive   \n",
       "2  Nous sommes tous conscients de la popularité d...       fr  positive   \n",
       "3  El baño en el sistema de metro de la ciudad de...       es  positive   \n",
       "4  \"Ich habe dies seit über 20 Jahren getan und i...       de  positive   \n",
       "\n",
       "   tweet_length                                      tweet_english  \n",
       "0           139  lionel messi who has been linked to a transfer...  \n",
       "1           114  this is a guest post by the joy of truth to re...  \n",
       "2           117  we are all aware of the popularity of the inte...  \n",
       "3           102  the bathroom in the subway system of new york ...  \n",
       "4           131  ive been doing this for over  years and i know...  "
      ]
     },
     "execution_count": 18,
     "metadata": {},
     "output_type": "execute_result"
    }
   ],
   "source": [
    "dataset['language'] = dataset['language'].apply(lambda x:clean_text(x))\n",
    "dataset.head()"
   ]
  },
  {
   "cell_type": "code",
   "execution_count": 19,
   "metadata": {
    "id": "tDZY-_0714c7"
   },
   "outputs": [],
   "source": [
    "def remove_stopword(text):\n",
    "    if pd.notnull(text):\n",
    "        stop_words = set(stopwords.words('english'))\n",
    "        tokens = word_tokenize(text)\n",
    "        filtered_text = [word for word in tokens if word not in stop_words]\n",
    "        return ' '.join(filtered_text)\n",
    "    return text\n"
   ]
  },
  {
   "cell_type": "code",
   "execution_count": 20,
   "metadata": {
    "id": "KrEPY3vM14c8"
   },
   "outputs": [],
   "source": [
    "def lemmatize_text(text):\n",
    "    if pd.notnull(text):\n",
    "        lemmatizer = WordNetLemmatizer()\n",
    "        tokens = word_tokenize(text)\n",
    "        lemmatized_text = [lemmatizer.lemmatize(word) for word in tokens]\n",
    "        return ' '.join(lemmatized_text)\n",
    "    return text"
   ]
  },
  {
   "cell_type": "code",
   "execution_count": 21,
   "metadata": {},
   "outputs": [],
   "source": [
    "# Rest of your code\n",
    "dataset['tweet_english'] = dataset['tweet_english'].apply(lambda x: remove_stopword(x))\n",
    "dataset['tweet_english'] = dataset['tweet_english'].apply(lambda x: lemmatize_text(x))\n"
   ]
  },
  {
   "cell_type": "code",
   "execution_count": 22,
   "metadata": {
    "colab": {
     "base_uri": "https://localhost:8080/"
    },
    "id": "nYS_W6A414c9",
    "outputId": "51874d1d-5cae-4be8-9f32-9d7e84856487"
   },
   "outputs": [
    {
     "data": {
      "text/plain": [
       "0       Lionel Messi, que ha estado vinculado con un t...\n",
       "1       This is a guest post by The Joy of Truth. To r...\n",
       "2       Nous sommes tous conscients de la popularité d...\n",
       "3       El baño en el sistema de metro de la ciudad de...\n",
       "4       \"Ich habe dies seit über 20 Jahren getan und i...\n",
       "                              ...                        \n",
       "4912    \\nA former CIA officer and CIA director has pl...\n",
       "4913    Karen M. Felt, Ph.D. La ricerca è stata condot...\n",
       "4914    Mit all der Aufmerksamkeit, die dem Thema Abtr...\n",
       "4915    L'élément le plus important dans le processus ...\n",
       "4916    On voit souvent dans les films quelqu'un qui a...\n",
       "Name: tweet, Length: 4917, dtype: object"
      ]
     },
     "execution_count": 22,
     "metadata": {},
     "output_type": "execute_result"
    }
   ],
   "source": [
    "dataset['tweet']"
   ]
  },
  {
   "cell_type": "code",
   "execution_count": 23,
   "metadata": {},
   "outputs": [
    {
     "data": {
      "text/html": [
       "<div>\n",
       "<style scoped>\n",
       "    .dataframe tbody tr th:only-of-type {\n",
       "        vertical-align: middle;\n",
       "    }\n",
       "\n",
       "    .dataframe tbody tr th {\n",
       "        vertical-align: top;\n",
       "    }\n",
       "\n",
       "    .dataframe thead th {\n",
       "        text-align: right;\n",
       "    }\n",
       "</style>\n",
       "<table border=\"1\" class=\"dataframe\">\n",
       "  <thead>\n",
       "    <tr style=\"text-align: right;\">\n",
       "      <th></th>\n",
       "      <th>tweet</th>\n",
       "      <th>language</th>\n",
       "      <th>sentiment</th>\n",
       "      <th>tweet_length</th>\n",
       "      <th>tweet_english</th>\n",
       "    </tr>\n",
       "  </thead>\n",
       "  <tbody>\n",
       "    <tr>\n",
       "      <th>0</th>\n",
       "      <td>Lionel Messi, que ha estado vinculado con un t...</td>\n",
       "      <td>es</td>\n",
       "      <td>neutral</td>\n",
       "      <td>139</td>\n",
       "      <td>lionel messi linked transfer barcelona ​​is li...</td>\n",
       "    </tr>\n",
       "    <tr>\n",
       "      <th>1</th>\n",
       "      <td>This is a guest post by The Joy of Truth. To r...</td>\n",
       "      <td>en</td>\n",
       "      <td>positive</td>\n",
       "      <td>114</td>\n",
       "      <td>guest post joy truth read essay topic check ne...</td>\n",
       "    </tr>\n",
       "    <tr>\n",
       "      <th>2</th>\n",
       "      <td>Nous sommes tous conscients de la popularité d...</td>\n",
       "      <td>fr</td>\n",
       "      <td>positive</td>\n",
       "      <td>117</td>\n",
       "      <td>aware popularity internetthis due fact huge ma...</td>\n",
       "    </tr>\n",
       "    <tr>\n",
       "      <th>3</th>\n",
       "      <td>El baño en el sistema de metro de la ciudad de...</td>\n",
       "      <td>es</td>\n",
       "      <td>positive</td>\n",
       "      <td>102</td>\n",
       "      <td>bathroom subway system new york city also key ...</td>\n",
       "    </tr>\n",
       "    <tr>\n",
       "      <th>4</th>\n",
       "      <td>\"Ich habe dies seit über 20 Jahren getan und i...</td>\n",
       "      <td>de</td>\n",
       "      <td>positive</td>\n",
       "      <td>131</td>\n",
       "      <td>ive year know hard fight done past year</td>\n",
       "    </tr>\n",
       "  </tbody>\n",
       "</table>\n",
       "</div>"
      ],
      "text/plain": [
       "                                               tweet language sentiment  \\\n",
       "0  Lionel Messi, que ha estado vinculado con un t...       es   neutral   \n",
       "1  This is a guest post by The Joy of Truth. To r...       en  positive   \n",
       "2  Nous sommes tous conscients de la popularité d...       fr  positive   \n",
       "3  El baño en el sistema de metro de la ciudad de...       es  positive   \n",
       "4  \"Ich habe dies seit über 20 Jahren getan und i...       de  positive   \n",
       "\n",
       "   tweet_length                                      tweet_english  \n",
       "0           139  lionel messi linked transfer barcelona ​​is li...  \n",
       "1           114  guest post joy truth read essay topic check ne...  \n",
       "2           117  aware popularity internetthis due fact huge ma...  \n",
       "3           102  bathroom subway system new york city also key ...  \n",
       "4           131            ive year know hard fight done past year  "
      ]
     },
     "execution_count": 23,
     "metadata": {},
     "output_type": "execute_result"
    }
   ],
   "source": [
    "dataset.head()"
   ]
  },
  {
   "cell_type": "code",
   "execution_count": null,
   "metadata": {},
   "outputs": [],
   "source": []
  },
  {
   "cell_type": "code",
   "execution_count": null,
   "metadata": {},
   "outputs": [],
   "source": []
  },
  {
   "cell_type": "code",
   "execution_count": null,
   "metadata": {},
   "outputs": [],
   "source": []
  },
  {
   "cell_type": "code",
   "execution_count": null,
   "metadata": {},
   "outputs": [],
   "source": []
  },
  {
   "cell_type": "code",
   "execution_count": null,
   "metadata": {},
   "outputs": [],
   "source": []
  },
  {
   "cell_type": "code",
   "execution_count": null,
   "metadata": {},
   "outputs": [],
   "source": []
  },
  {
   "cell_type": "code",
   "execution_count": null,
   "metadata": {},
   "outputs": [],
   "source": []
  }
 ],
 "metadata": {
  "accelerator": "GPU",
  "colab": {
   "gpuType": "T4",
   "provenance": []
  },
  "hide_input": false,
  "kernelspec": {
   "display_name": "Python 3 (ipykernel)",
   "language": "python",
   "name": "python3"
  },
  "language_info": {
   "codemirror_mode": {
    "name": "ipython",
    "version": 3
   },
   "file_extension": ".py",
   "mimetype": "text/x-python",
   "name": "python",
   "nbconvert_exporter": "python",
   "pygments_lexer": "ipython3",
   "version": "3.11.7"
  },
  "toc": {
   "base_numbering": 1,
   "nav_menu": {},
   "number_sections": true,
   "sideBar": true,
   "skip_h1_title": false,
   "title_cell": "Table of Contents",
   "title_sidebar": "Contents",
   "toc_cell": false,
   "toc_position": {},
   "toc_section_display": true,
   "toc_window_display": false
  }
 },
 "nbformat": 4,
 "nbformat_minor": 4
}
